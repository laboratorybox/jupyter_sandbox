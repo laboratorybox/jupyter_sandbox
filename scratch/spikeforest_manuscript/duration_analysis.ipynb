{
 "cells": [
  {
   "cell_type": "code",
   "execution_count": null,
   "metadata": {},
   "outputs": [],
   "source": [
    "import os\n",
    "import numpy as np\n",
    "import pandas as pd\n",
    "import kachery as ka\n",
    "import hither2 as hi\n",
    "from spikeforest2_utils import AutoSortingExtractor, MdaRecordingExtractor\n",
    "import spikeextractors as se"
   ]
  },
  {
   "cell_type": "code",
   "execution_count": null,
   "metadata": {},
   "outputs": [],
   "source": [
    "a = ka.load_object(\n",
    "    'sha1://ca5fb596746c4ddca9d74df25b9bb1ecfd626f21/analysis.json',\n",
    "    fr='default_readwrite'\n",
    ")\n",
    "assert a is not None"
   ]
  },
  {
   "cell_type": "code",
   "execution_count": null,
   "metadata": {},
   "outputs": [],
   "source": [
    "class SFAnalysis:\n",
    "    def __init__(self, path_or_dict):\n",
    "        if type(path_or_dict) == str:\n",
    "            self._obj = ka.load_object(path_or_dict)\n",
    "            assert self._obj is not None, 'Unable to load analysis object'\n",
    "        elif type(path_or_dict) == dict:\n",
    "            self._obj = path_or_dict\n",
    "        else:\n",
    "            raise Exception('Invalid type for path_or_dict. Must be string or dict.')\n",
    "    \n",
    "    def get_study_object(self, study_name):\n",
    "        a = [s for ss in self._obj['StudySets'] for s in ss['studies'] if s['name'] == study_name]\n",
    "        assert len(a) >= 1, f'Unable to get study object {study_name}'\n",
    "        assert len(a) <= 1, f'Multiple study objects found for {study_name}'\n",
    "        return a[0]\n",
    "    \n",
    "    def get_study_names(self):\n",
    "        return [s['name'] for ss in self._obj['StudySets'] for s in ss['studies']]\n",
    "    \n",
    "    def get_recording_names(self, study_name):\n",
    "        s = self.get_study_object(study_name)\n",
    "        return [r['name'] for r in s['recordings']]\n",
    "    \n",
    "    def get_sorter_names(self):\n",
    "        return [s['name'] for s in self._obj['Sorters']]\n",
    "    \n",
    "    def get_recording_object(self, study_name, recording_name):\n",
    "        study_obj = self.get_study_object(study_name)\n",
    "        a = [r for r in study_obj['recordings'] if r['name'] == recording_name]\n",
    "        assert len(a) >= 1, f'Unable to get recording object {study_name} {recording_name}'\n",
    "        assert len(a) <= 1, f'Multiple recording objects found for {study_name} {recording_name}'\n",
    "        return a[0]\n",
    "    \n",
    "    def get_recording_path(self, study_name, recording_name):\n",
    "        recobj = self.get_recording_object(study_name, recording_name)\n",
    "        return recobj['directory']\n",
    "    \n",
    "    def get_recording_extractor(self, study_name, recording_name, download=False):\n",
    "        recobj = self.get_recording_object(study_name, recording_name)\n",
    "        R = MdaRecordingExtractor(recording_directory=recobj['directory'], download=download)\n",
    "        return R\n",
    "    \n",
    "    def get_sorting_result_object(self, study_name, recording_name, sorter_name):\n",
    "        srs = [sr for sr in self._obj['SortingResults'] if sr['studyName'] == study_name and sr['recordingName'] == recording_name and sr['sorterName'] == sorter_name]\n",
    "        assert len(srs) >= 1, f'Unable to get sorting result object {study_name} {recording_name} {sorter_name}'\n",
    "        assert len(srs) <= 1, f'Multiple sorting result objects found for {study_name} {recording_name} {sorter_name}'\n",
    "        return srs[0]\n",
    "    \n",
    "    def get_sorting_result_objects(self, study_names, sorter_names):\n",
    "        srs = [sr for sr in self._obj['SortingResults'] if sr['studyName'] in study_names and sr['sorterName'] in sorter_names]\n",
    "        return srs\n",
    "    \n",
    "    def get_sorting_result_extractor(self, study_name, recording_name, sorter_name):\n",
    "        R = self.get_recording_extractor(study_name, recording_name)\n",
    "        srobj = self.get_sorting_result_object(study_name, recording_name, sorter_name)\n",
    "        if 'firings' not in srobj:\n",
    "            return None\n",
    "        S = AutoSortingExtractor(srobj['firings'], samplerate=R.get_sampling_frequency())\n",
    "        return S\n",
    "\n",
    "    def get_sorting_result_path(self, study_name, recording_name, sorter_name):\n",
    "        R = self.get_recording_extractor(study_name, recording_name)\n",
    "        srobj = self.get_sorting_result_object(study_name, recording_name, sorter_name)\n",
    "        return srobj['firings']\n",
    "    \n",
    "    def get_sorting_true_extractor(self, study_name, recording_name):\n",
    "        R = self.get_recording_extractor(study_name, recording_name)\n",
    "        recobj = self.get_recording_object(study_name, recording_name)\n",
    "        S = AutoSortingExtractor(recobj['firingsTrue'], samplerate=R.get_sampling_frequency())\n",
    "        return S\n",
    "    \n",
    "    def get_sorting_true_path(self, study_name, recording_name):\n",
    "        R = self.get_recording_extractor(study_name, recording_name)\n",
    "        recobj = self.get_recording_object(study_name, recording_name)\n",
    "        return recobj['firingsTrue']\n",
    "    \n",
    "    def get_study_analysis_result_object(self, study_name):\n",
    "        ret = [sar for sar in self._obj['StudyAnalysisResults'] if sar['studyName'] == study_name]\n",
    "        if len(ret) == 0:\n",
    "            return None\n",
    "        elif len(ret) == 1:\n",
    "            return ret[0]\n",
    "        else:\n",
    "            raise Exception(f'Too many results for study: {study_name}')\n",
    "    \n",
    "    def get_study_sorting_result_object(self, study_name, sorter_name):\n",
    "        sars = [sar for sar in self._obj['StudyAnalysisResults'] if sar['studyName'] == study_name]\n",
    "        ret = [r for sar in sars for r in sar['sortingResults'] if r['sorterName'] == sorter_name]\n",
    "        if len(ret) == 0:\n",
    "            return None\n",
    "        elif len(ret) == 1:\n",
    "            return ret[0]\n",
    "        else:\n",
    "            raise Exception(f'Too many results for study and sorter: {study_name} {sorter_name}')"
   ]
  },
  {
   "cell_type": "code",
   "execution_count": null,
   "metadata": {},
   "outputs": [],
   "source": [
    "A = SFAnalysis(a)"
   ]
  },
  {
   "cell_type": "code",
   "execution_count": null,
   "metadata": {},
   "outputs": [],
   "source": [
    "durations = [300, 600, 1200, 2400, 4800]\n",
    "nchs = [8, 16]\n",
    "sorter_names = A.get_sorter_names()\n",
    "\n",
    "data = []\n",
    "\n",
    "for nch in nchs:\n",
    "    for dur in durations:\n",
    "        for mode in ['STATIC', 'DRIFT']:\n",
    "            study_name = f'LONG_{mode}_{dur}s_{nch}c'\n",
    "            for sorter_name in sorter_names:\n",
    "                sar = A.get_study_analysis_result_object(study_name)\n",
    "                true_snrs = sar['trueSnrs']\n",
    "                obj = A.get_study_sorting_result_object(study_name, sorter_name)\n",
    "                accuracies = obj['accuracies']\n",
    "                assert len(accuracies) == len(true_snrs)\n",
    "                inds = [idx for idx in range(len(true_snrs)) if true_snrs[idx] >= 8 and accuracies[idx] is not None]\n",
    "                accuracies0 = [accuracies[idx] for idx in inds]\n",
    "                avg_accuracy = np.mean(accuracies0)\n",
    "                data.append(dict(\n",
    "                    duration=dur,\n",
    "                    num_channels=nch,\n",
    "                    study=study_name,\n",
    "                    sorter=sorter_name,\n",
    "                    avg_accuracy=avg_accuracy,\n",
    "                    mode=mode\n",
    "                ))\n",
    "df = pd.DataFrame(data)"
   ]
  },
  {
   "cell_type": "code",
   "execution_count": null,
   "metadata": {},
   "outputs": [],
   "source": [
    "for mode in ['STATIC', 'DRIFT']:\n",
    "    import altair as alt\n",
    "    txt = 'no drift' if mode == 'STATIC' else 'with drift'\n",
    "    ch = alt.Chart(\n",
    "        df[df['mode'] == mode],\n",
    "        title=[f'Accuracy vs. duration for ten spike sorters ({txt})']\n",
    "    ).mark_bar().encode(\n",
    "        x=alt.X('duration:O', axis=alt.Axis(title='duration (sec)')),\n",
    "        y=alt.Y('avg_accuracy:Q', axis=alt.Axis(format='%', title='Avg. accuracy')),\n",
    "        column='sorter:N'\n",
    "    )\n",
    "\n",
    "    display(ch)"
   ]
  },
  {
   "cell_type": "code",
   "execution_count": null,
   "metadata": {},
   "outputs": [],
   "source": [
    "A.get_study_names()"
   ]
  },
  {
   "cell_type": "code",
   "execution_count": null,
   "metadata": {},
   "outputs": [],
   "source": [
    "A.get_study_sorting_result_object('LONG_STATIC_4800s_16c', 'MountainSort4')"
   ]
  },
  {
   "cell_type": "code",
   "execution_count": null,
   "metadata": {},
   "outputs": [],
   "source": [
    "a['StudyAnalysisResults'][0]['sortingResults'][0]['sorterName']"
   ]
  },
  {
   "cell_type": "code",
   "execution_count": null,
   "metadata": {},
   "outputs": [],
   "source": []
  }
 ],
 "metadata": {
  "kernelspec": {
   "display_name": "Python 3",
   "language": "python",
   "name": "python3"
  },
  "language_info": {
   "codemirror_mode": {
    "name": "ipython",
    "version": 3
   },
   "file_extension": ".py",
   "mimetype": "text/x-python",
   "name": "python",
   "nbconvert_exporter": "python",
   "pygments_lexer": "ipython3",
   "version": "3.6.9"
  }
 },
 "nbformat": 4,
 "nbformat_minor": 4
}
